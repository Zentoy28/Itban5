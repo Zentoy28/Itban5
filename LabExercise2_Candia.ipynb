{
  "nbformat": 4,
  "nbformat_minor": 0,
  "metadata": {
    "colab": {
      "provenance": [],
      "authorship_tag": "ABX9TyOfAvqmwh5yGx/AXgRLr4aV",
      "include_colab_link": true
    },
    "kernelspec": {
      "name": "python3",
      "display_name": "Python 3"
    },
    "language_info": {
      "name": "python"
    }
  },
  "cells": [
    {
      "cell_type": "markdown",
      "metadata": {
        "id": "view-in-github",
        "colab_type": "text"
      },
      "source": [
        "<a href=\"https://colab.research.google.com/github/Zentoy28/Itban5/blob/main/LabExercise2_Candia.ipynb\" target=\"_parent\"><img src=\"https://colab.research.google.com/assets/colab-badge.svg\" alt=\"Open In Colab\"/></a>"
      ]
    },
    {
      "cell_type": "code",
      "source": [
        "from google.colab import drive\n",
        "drive.mount('/content/drive')"
      ],
      "metadata": {
        "colab": {
          "base_uri": "https://localhost:8080/"
        },
        "id": "9K-igKp2aqYF",
        "outputId": "fbafc518-d39d-4db3-dbe1-6a809e91ee40"
      },
      "execution_count": 5,
      "outputs": [
        {
          "output_type": "stream",
          "name": "stdout",
          "text": [
            "Mounted at /content/drive\n"
          ]
        }
      ]
    },
    {
      "cell_type": "markdown",
      "source": [
        "1. Using the Colab notebook, import the following packages/ libraries/ modules:\n",
        "\n",
        "- OS\n",
        "\n",
        "- Numpy\n",
        "\n",
        "- Pandas\n",
        "\n",
        "- Matplotlib\n",
        "\n",
        "- Seaborn\n",
        "\n",
        "- Warnings (to suppress warnings)"
      ],
      "metadata": {
        "id": "8meQRF1Ua6_y"
      }
    },
    {
      "cell_type": "code",
      "source": [
        "import os\n",
        "import numpy as np\n",
        "import pandas as pd\n",
        "import matplotlib.pyplot as plt\n",
        "import seaborn as sns\n",
        "import warnings\n",
        "\n",
        "warnings.filterwarnings('ignore')"
      ],
      "metadata": {
        "id": "4zyeTsV9bUPY"
      },
      "execution_count": 6,
      "outputs": []
    },
    {
      "cell_type": "markdown",
      "source": [
        "2. Import and load the dataset. Set the client_id as the index."
      ],
      "metadata": {
        "id": "6jt8YCRScHvA"
      }
    },
    {
      "cell_type": "code",
      "source": [
        "df = pd.read_csv('/content/drive/MyDrive/Colob.research/loans.csv')\n",
        "df.set_index('client_id', inplace=True)"
      ],
      "metadata": {
        "id": "zBUZyoXOcU_8"
      },
      "execution_count": 7,
      "outputs": []
    },
    {
      "cell_type": "markdown",
      "source": [
        "3. Display the contents of the dataset by showing its first 5 rows."
      ],
      "metadata": {
        "id": "3Ogv-5EYecp0"
      }
    },
    {
      "cell_type": "code",
      "source": [
        "print(df.head())"
      ],
      "metadata": {
        "colab": {
          "base_uri": "https://localhost:8080/"
        },
        "id": "R7ROv2dAe2en",
        "outputId": "ad6a2f22-87f3-450f-c39a-a477cfe9cf05"
      },
      "execution_count": 8,
      "outputs": [
        {
          "output_type": "stream",
          "name": "stdout",
          "text": [
            "          loan_type  loan_amount  repaid  loan_id  loan_start    loan_end  \\\n",
            "client_id                                                                   \n",
            "46109          home        13672       0    10243  2002-04-16  2003-12-20   \n",
            "46109        credit         9794       0    10984  2003-10-21  2005-07-17   \n",
            "46109          home        12734       1    10990  2006-02-01  2007-07-05   \n",
            "46109          cash        12518       1    10596  2010-12-08  2013-05-05   \n",
            "46109        credit        14049       1    11415  2010-07-07  2012-05-21   \n",
            "\n",
            "           rate  \n",
            "client_id        \n",
            "46109      2.15  \n",
            "46109      1.25  \n",
            "46109      0.68  \n",
            "46109      1.24  \n",
            "46109      3.13  \n"
          ]
        }
      ]
    },
    {
      "cell_type": "markdown",
      "source": [
        "4. Check the info of the dataset and the datatypes for each columns.\n"
      ],
      "metadata": {
        "id": "-okkZkYdfFp3"
      }
    },
    {
      "cell_type": "code",
      "source": [
        "df.info()"
      ],
      "metadata": {
        "colab": {
          "base_uri": "https://localhost:8080/"
        },
        "id": "qKPd4f1bfJ3j",
        "outputId": "d5b646bc-af10-49ef-b7ed-6c1b08b0d794"
      },
      "execution_count": 9,
      "outputs": [
        {
          "output_type": "stream",
          "name": "stdout",
          "text": [
            "<class 'pandas.core.frame.DataFrame'>\n",
            "Int64Index: 443 entries, 46109 to 26945\n",
            "Data columns (total 7 columns):\n",
            " #   Column       Non-Null Count  Dtype  \n",
            "---  ------       --------------  -----  \n",
            " 0   loan_type    443 non-null    object \n",
            " 1   loan_amount  443 non-null    int64  \n",
            " 2   repaid       443 non-null    int64  \n",
            " 3   loan_id      443 non-null    int64  \n",
            " 4   loan_start   443 non-null    object \n",
            " 5   loan_end     443 non-null    object \n",
            " 6   rate         443 non-null    float64\n",
            "dtypes: float64(1), int64(3), object(3)\n",
            "memory usage: 27.7+ KB\n"
          ]
        }
      ]
    },
    {
      "cell_type": "markdown",
      "source": [
        "5. Determine whether the dataset has missing values."
      ],
      "metadata": {
        "id": "WUPmwIhUfR1v"
      }
    },
    {
      "cell_type": "code",
      "source": [
        "print(df.isnull().sum())"
      ],
      "metadata": {
        "colab": {
          "base_uri": "https://localhost:8080/"
        },
        "id": "tE8eIoJxfVNZ",
        "outputId": "9276a0ce-814b-4044-b4af-438f6cdf10cd"
      },
      "execution_count": 10,
      "outputs": [
        {
          "output_type": "stream",
          "name": "stdout",
          "text": [
            "loan_type      0\n",
            "loan_amount    0\n",
            "repaid         0\n",
            "loan_id        0\n",
            "loan_start     0\n",
            "loan_end       0\n",
            "rate           0\n",
            "dtype: int64\n"
          ]
        }
      ]
    },
    {
      "cell_type": "markdown",
      "source": [
        "6. Check if there is a presence of outliers using Boxplot."
      ],
      "metadata": {
        "id": "F6WzGtU2fejL"
      }
    },
    {
      "cell_type": "code",
      "source": [
        "plt.figure(figsize=(12, 6))\n",
        "df.boxplot()\n",
        "sns.boxplot(data=df)\n",
        "plt.title(f'Dataset Boxplot')\n",
        "plt.show()"
      ],
      "metadata": {
        "colab": {
          "base_uri": "https://localhost:8080/",
          "height": 545
        },
        "id": "bI5UlMvhfhat",
        "outputId": "36b46893-7724-4a2d-f256-8dfb2a7acebb"
      },
      "execution_count": 11,
      "outputs": [
        {
          "output_type": "display_data",
          "data": {
            "text/plain": [
              "<Figure size 1200x600 with 1 Axes>"
            ],
            "image/png": "[encoded data removed]"
          },
          "metadata": {}
        }
      ]
    },
    {
      "cell_type": "markdown",
      "source": [
        "7. If there are a presence of outliers, do the following and explain the results:\n",
        "\n",
        "  a. Treat them using SQRT transformation\n"
      ],
      "metadata": {
        "id": "uysQMiNNgJEt"
      }
    },
    {
      "cell_type": "code",
      "source": [
        "df_sqrt_transformed = df.copy()\n",
        "numerical_cols = df_sqrt_transformed.select_dtypes(include=[np.number]).columns\n",
        "df_sqrt_transformed[numerical_cols] = np.sqrt(df_sqrt_transformed[numerical_cols])\n",
        "\n",
        "df_sqrt_transformed.boxplot()\n",
        "plt.show()"
      ],
      "metadata": {
        "colab": {
          "base_uri": "https://localhost:8080/",
          "height": 430
        },
        "id": "0hZXWC6WgLk5",
        "outputId": "2c1bcb45-07b6-433c-885f-eca5b8b7eb62"
      },
      "execution_count": 12,
      "outputs": [
        {
          "output_type": "display_data",
          "data": {
            "text/plain": [
              "<Figure size 640x480 with 1 Axes>"
            ],
            "image/png": "[encoded data removed]"
          },
          "metadata": {}
        }
      ]
    },
    {
      "cell_type": "markdown",
      "source": [
        "b. Treat them using the capping approach: Z-Score.\n",
        "\n"
      ],
      "metadata": {
        "id": "zlZ90VDXzjGU"
      }
    },
    {
      "cell_type": "code",
      "source": [
        "from scipy import stats\n",
        "\n",
        "z_scores = np.abs(stats.zscore(df[numerical_cols]))\n",
        "threshold = 3\n",
        "df_z_capped = df[(z_scores < threshold).all(axis=1)]\n",
        "\n",
        "print(f\"Number of rows before capping: {df.shape[0]}\")\n",
        "print(f\"Number of rows after capping: {df_z_capped.shape[0]}\")"
      ],
      "metadata": {
        "colab": {
          "base_uri": "https://localhost:8080/"
        },
        "id": "kLz6o0ImzzYv",
        "outputId": "c2a8eb22-d166-4e20-af65-efe9a52f0b9e"
      },
      "execution_count": 13,
      "outputs": [
        {
          "output_type": "stream",
          "name": "stdout",
          "text": [
            "Number of rows before capping: 443\n",
            "Number of rows after capping: 440\n"
          ]
        }
      ]
    },
    {
      "cell_type": "markdown",
      "source": [
        "8. Upon checking the datatypes for each columns, for numerical variables, apply scaling using Min-Max Normalization. Display the skewness and kurtosis graphs for Loan Amount and explain the results."
      ],
      "metadata": {
        "id": "Ki1DgAow0Ggf"
      }
    },
    {
      "cell_type": "code",
      "source": [
        "from sklearn.preprocessing import MinMaxScaler\n",
        "\n",
        "scaler = MinMaxScaler()\n",
        "df_scaled = df.copy()\n",
        "df_scaled[numerical_cols] = scaler.fit_transform(df_scaled[numerical_cols])\n"
      ],
      "metadata": {
        "id": "lxwWPGEf0KbA"
      },
      "execution_count": 14,
      "outputs": []
    },
    {
      "cell_type": "code",
      "source": [
        "df.head()"
      ],
      "metadata": {
        "colab": {
          "base_uri": "https://localhost:8080/",
          "height": 238
        },
        "id": "8PGlUdlw0Rbh",
        "outputId": "ff48549d-18c6-4352-e0ab-90eda929afba"
      },
      "execution_count": 15,
      "outputs": [
        {
          "output_type": "execute_result",
          "data": {
            "text/plain": [
              "          loan_type  loan_amount  repaid  loan_id  loan_start    loan_end  \\\n",
              "client_id                                                                   \n",
              "46109          home        13672       0    10243  2002-04-16  2003-12-20   \n",
              "46109        credit         9794       0    10984  2003-10-21  2005-07-17   \n",
              "46109          home        12734       1    10990  2006-02-01  2007-07-05   \n",
              "46109          cash        12518       1    10596  2010-12-08  2013-05-05   \n",
              "46109        credit        14049       1    11415  2010-07-07  2012-05-21   \n",
              "\n",
              "           rate  \n",
              "client_id        \n",
              "46109      2.15  \n",
              "46109      1.25  \n",
              "46109      0.68  \n",
              "46109      1.24  \n",
              "46109      3.13  "
            ],
            "text/html": [
              "\n",
              "  <div id=\"df-65bba51c-f14b-4b6f-b381-f8938cc57749\" class=\"colab-df-container\">\n",
              "    <div>\n",
              "<style scoped>\n",
              "    .dataframe tbody tr th:only-of-type {\n",
              "        vertical-align: middle;\n",
              "    }\n",
              "\n",
              "    .dataframe tbody tr th {\n",
              "        vertical-align: top;\n",
              "    }\n",
              "\n",
              "    .dataframe thead th {\n",
              "        text-align: right;\n",
              "    }\n",
              "</style>\n",
              "<table border=\"1\" class=\"dataframe\">\n",
              "  <thead>\n",
              "    <tr style=\"text-align: right;\">\n",
              "      <th></th>\n",
              "      <th>loan_type</th>\n",
              "      <th>loan_amount</th>\n",
              "      <th>repaid</th>\n",
              "      <th>loan_id</th>\n",
              "      <th>loan_start</th>\n",
              "      <th>loan_end</th>\n",
              "      <th>rate</th>\n",
              "    </tr>\n",
              "    <tr>\n",
              "      <th>client_id</th>\n",
              "      <th></th>\n",
              "      <th></th>\n",
              "      <th></th>\n",
              "      <th></th>\n",
              "      <th></th>\n",
              "      <th></th>\n",
              "      <th></th>\n",
              "    </tr>\n",
              "  </thead>\n",
              "  <tbody>\n",
              "    <tr>\n",
              "      <th>46109</th>\n",
              "      <td>home</td>\n",
              "      <td>13672</td>\n",
              "      <td>0</td>\n",
              "      <td>10243</td>\n",
              "      <td>2002-04-16</td>\n",
              "      <td>2003-12-20</td>\n",
              "      <td>2.15</td>\n",
              "    </tr>\n",
              "    <tr>\n",
              "      <th>46109</th>\n",
              "      <td>credit</td>\n",
              "      <td>9794</td>\n",
              "      <td>0</td>\n",
              "      <td>10984</td>\n",
              "      <td>2003-10-21</td>\n",
              "      <td>2005-07-17</td>\n",
              "      <td>1.25</td>\n",
              "    </tr>\n",
              "    <tr>\n",
              "      <th>46109</th>\n",
              "      <td>home</td>\n",
              "      <td>12734</td>\n",
              "      <td>1</td>\n",
              "      <td>10990</td>\n",
              "      <td>2006-02-01</td>\n",
              "      <td>2007-07-05</td>\n",
              "      <td>0.68</td>\n",
              "    </tr>\n",
              "    <tr>\n",
              "      <th>46109</th>\n",
              "      <td>cash</td>\n",
              "      <td>12518</td>\n",
              "      <td>1</td>\n",
              "      <td>10596</td>\n",
              "      <td>2010-12-08</td>\n",
              "      <td>2013-05-05</td>\n",
              "      <td>1.24</td>\n",
              "    </tr>\n",
              "    <tr>\n",
              "      <th>46109</th>\n",
              "      <td>credit</td>\n",
              "      <td>14049</td>\n",
              "      <td>1</td>\n",
              "      <td>11415</td>\n",
              "      <td>2010-07-07</td>\n",
              "      <td>2012-05-21</td>\n",
              "      <td>3.13</td>\n",
              "    </tr>\n",
              "  </tbody>\n",
              "</table>\n",
              "</div>\n",
              "    <div class=\"colab-df-buttons\">\n",
              "\n",
              "  <div class=\"colab-df-container\">\n",
              "    <button class=\"colab-df-convert\" onclick=\"convertToInteractive('df-65bba51c-f14b-4b6f-b381-f8938cc57749')\"\n",
              "            title=\"Convert this dataframe to an interactive table.\"\n",
              "            style=\"display:none;\">\n",
              "\n",
              "  <svg xmlns=\"http://www.w3.org/2000/svg\" height=\"24px\" viewBox=\"0 -960 960 960\">\n",
              "    <path d=\"M120-120v-720h720v720H120Zm60-500h600v-160H180v160Zm220 220h160v-160H400v160Zm0 220h160v-160H400v160ZM180-400h160v-160H180v160Zm440 0h160v-160H620v160ZM180-180h160v-160H180v160Zm440 0h160v-160H620v160Z\"/>\n",
              "  </svg>\n",
              "    </button>\n",
              "\n",
              "  <style>\n",
              "    .colab-df-container {\n",
              "      display:flex;\n",
              "      gap: 12px;\n",
              "    }\n",
              "\n",
              "    .colab-df-convert {\n",
              "      background-color: #E8F0FE;\n",
              "      border: none;\n",
              "      border-radius: 50%;\n",
              "      cursor: pointer;\n",
              "      display: none;\n",
              "      fill: #1967D2;\n",
              "      height: 32px;\n",
              "      padding: 0 0 0 0;\n",
              "      width: 32px;\n",
              "    }\n",
              "\n",
              "    .colab-df-convert:hover {\n",
              "      background-color: #E2EBFA;\n",
              "      box-shadow: 0px 1px 2px rgba(60, 64, 67, 0.3), 0px 1px 3px 1px rgba(60, 64, 67, 0.15);\n",
              "      fill: #174EA6;\n",
              "    }\n",
              "\n",
              "    .colab-df-buttons div {\n",
              "      margin-bottom: 4px;\n",
              "    }\n",
              "\n",
              "    [theme=dark] .colab-df-convert {\n",
              "      background-color: #3B4455;\n",
              "      fill: #D2E3FC;\n",
              "    }\n",
              "\n",
              "    [theme=dark] .colab-df-convert:hover {\n",
              "      background-color: #434B5C;\n",
              "      box-shadow: 0px 1px 3px 1px rgba(0, 0, 0, 0.15);\n",
              "      filter: drop-shadow(0px 1px 2px rgba(0, 0, 0, 0.3));\n",
              "      fill: #FFFFFF;\n",
              "    }\n",
              "  </style>\n",
              "\n",
              "    <script>\n",
              "      const buttonEl =\n",
              "        document.querySelector('#df-65bba51c-f14b-4b6f-b381-f8938cc57749 button.colab-df-convert');\n",
              "      buttonEl.style.display =\n",
              "        google.colab.kernel.accessAllowed ? 'block' : 'none';\n",
              "\n",
              "      async function convertToInteractive(key) {\n",
              "        const element = document.querySelector('#df-65bba51c-f14b-4b6f-b381-f8938cc57749');\n",
              "        const dataTable =\n",
              "          await google.colab.kernel.invokeFunction('convertToInteractive',\n",
              "                                                    [key], {});\n",
              "        if (!dataTable) return;\n",
              "\n",
              "        const docLinkHtml = 'Like what you see? Visit the ' +\n",
              "          '<a target=\"_blank\" href=https://colab.research.google.com/notebooks/data_table.ipynb>data table notebook</a>'\n",
              "          + ' to learn more about interactive tables.';\n",
              "        element.innerHTML = '';\n",
              "        dataTable['output_type'] = 'display_data';\n",
              "        await google.colab.output.renderOutput(dataTable, element);\n",
              "        const docLink = document.createElement('div');\n",
              "        docLink.innerHTML = docLinkHtml;\n",
              "        element.appendChild(docLink);\n",
              "      }\n",
              "    </script>\n",
              "  </div>\n",
              "\n",
              "\n",
              "<div id=\"df-5942cfc6-cda5-4b8d-b9f9-c6f427c10090\">\n",
              "  <button class=\"colab-df-quickchart\" onclick=\"quickchart('df-5942cfc6-cda5-4b8d-b9f9-c6f427c10090')\"\n",
              "            title=\"Suggest charts\"\n",
              "            style=\"display:none;\">\n",
              "\n",
              "<svg xmlns=\"http://www.w3.org/2000/svg\" height=\"24px\"viewBox=\"0 0 24 24\"\n",
              "     width=\"24px\">\n",
              "    <g>\n",
              "        <path d=\"M19 3H5c-1.1 0-2 .9-2 2v14c0 1.1.9 2 2 2h14c1.1 0 2-.9 2-2V5c0-1.1-.9-2-2-2zM9 17H7v-7h2v7zm4 0h-2V7h2v10zm4 0h-2v-4h2v4z\"/>\n",
              "    </g>\n",
              "</svg>\n",
              "  </button>\n",
              "\n",
              "<style>\n",
              "  .colab-df-quickchart {\n",
              "      --bg-color: #E8F0FE;\n",
              "      --fill-color: #1967D2;\n",
              "      --hover-bg-color: #E2EBFA;\n",
              "      --hover-fill-color: #174EA6;\n",
              "      --disabled-fill-color: #AAA;\n",
              "      --disabled-bg-color: #DDD;\n",
              "  }\n",
              "\n",
              "  [theme=dark] .colab-df-quickchart {\n",
              "      --bg-color: #3B4455;\n",
              "      --fill-color: #D2E3FC;\n",
              "      --hover-bg-color: #434B5C;\n",
              "      --hover-fill-color: #FFFFFF;\n",
              "      --disabled-bg-color: #3B4455;\n",
              "      --disabled-fill-color: #666;\n",
              "  }\n",
              "\n",
              "  .colab-df-quickchart {\n",
              "    background-color: var(--bg-color);\n",
              "    border: none;\n",
              "    border-radius: 50%;\n",
              "    cursor: pointer;\n",
              "    display: none;\n",
              "    fill: var(--fill-color);\n",
              "    height: 32px;\n",
              "    padding: 0;\n",
              "    width: 32px;\n",
              "  }\n",
              "\n",
              "  .colab-df-quickchart:hover {\n",
              "    background-color: var(--hover-bg-color);\n",
              "    box-shadow: 0 1px 2px rgba(60, 64, 67, 0.3), 0 1px 3px 1px rgba(60, 64, 67, 0.15);\n",
              "    fill: var(--button-hover-fill-color);\n",
              "  }\n",
              "\n",
              "  .colab-df-quickchart-complete:disabled,\n",
              "  .colab-df-quickchart-complete:disabled:hover {\n",
              "    background-color: var(--disabled-bg-color);\n",
              "    fill: var(--disabled-fill-color);\n",
              "    box-shadow: none;\n",
              "  }\n",
              "\n",
              "  .colab-df-spinner {\n",
              "    border: 2px solid var(--fill-color);\n",
              "    border-color: transparent;\n",
              "    border-bottom-color: var(--fill-color);\n",
              "    animation:\n",
              "      spin 1s steps(1) infinite;\n",
              "  }\n",
              "\n",
              "  @keyframes spin {\n",
              "    0% {\n",
              "      border-color: transparent;\n",
              "      border-bottom-color: var(--fill-color);\n",
              "      border-left-color: var(--fill-color);\n",
              "    }\n",
              "    20% {\n",
              "      border-color: transparent;\n",
              "      border-left-color: var(--fill-color);\n",
              "      border-top-color: var(--fill-color);\n",
              "    }\n",
              "    30% {\n",
              "      border-color: transparent;\n",
              "      border-left-color: var(--fill-color);\n",
              "      border-top-color: var(--fill-color);\n",
              "      border-right-color: var(--fill-color);\n",
              "    }\n",
              "    40% {\n",
              "      border-color: transparent;\n",
              "      border-right-color: var(--fill-color);\n",
              "      border-top-color: var(--fill-color);\n",
              "    }\n",
              "    60% {\n",
              "      border-color: transparent;\n",
              "      border-right-color: var(--fill-color);\n",
              "    }\n",
              "    80% {\n",
              "      border-color: transparent;\n",
              "      border-right-color: var(--fill-color);\n",
              "      border-bottom-color: var(--fill-color);\n",
              "    }\n",
              "    90% {\n",
              "      border-color: transparent;\n",
              "      border-bottom-color: var(--fill-color);\n",
              "    }\n",
              "  }\n",
              "</style>\n",
              "\n",
              "  <script>\n",
              "    async function quickchart(key) {\n",
              "      const quickchartButtonEl =\n",
              "        document.querySelector('#' + key + ' button');\n",
              "      quickchartButtonEl.disabled = true;  // To prevent multiple clicks.\n",
              "      quickchartButtonEl.classList.add('colab-df-spinner');\n",
              "      try {\n",
              "        const charts = await google.colab.kernel.invokeFunction(\n",
              "            'suggestCharts', [key], {});\n",
              "      } catch (error) {\n",
              "        console.error('Error during call to suggestCharts:', error);\n",
              "      }\n",
              "      quickchartButtonEl.classList.remove('colab-df-spinner');\n",
              "      quickchartButtonEl.classList.add('colab-df-quickchart-complete');\n",
              "    }\n",
              "    (() => {\n",
              "      let quickchartButtonEl =\n",
              "        document.querySelector('#df-5942cfc6-cda5-4b8d-b9f9-c6f427c10090 button');\n",
              "      quickchartButtonEl.style.display =\n",
              "        google.colab.kernel.accessAllowed ? 'block' : 'none';\n",
              "    })();\n",
              "  </script>\n",
              "</div>\n",
              "    </div>\n",
              "  </div>\n"
            ],
            "application/vnd.google.colaboratory.intrinsic+json": {
              "type": "dataframe",
              "variable_name": "df",
              "repr_error": "'str' object has no attribute 'empty'"
            }
          },
          "metadata": {},
          "execution_count": 15
        }
      ]
    },
    {
      "cell_type": "code",
      "source": [
        "from scipy.stats import skew, kurtosis\n",
        "plt.figure(figsize=(14, 6))\n",
        "\n",
        "plt.subplot(1, 2, 1)\n",
        "sns.histplot(df['loan_amount'], kde=True)\n",
        "plt.title(f'Skewness: {round(skew(df[\"loan_amount\"]), 2)}')\n",
        "\n",
        "plt.subplot(1, 2, 2)\n",
        "sns.histplot(df['loan_amount'], kde=True)\n",
        "plt.title(f'Kurtosis: {round(kurtosis(df[\"loan_amount\"]), 2)}')\n",
        "\n",
        "plt.show()"
      ],
      "metadata": {
        "colab": {
          "base_uri": "https://localhost:8080/",
          "height": 564
        },
        "id": "LRBw6CSg0Z1k",
        "outputId": "afabfd85-8912-4b33-8402-52fa2397cb7b"
      },
      "execution_count": 16,
      "outputs": [
        {
          "output_type": "display_data",
          "data": {
            "text/plain": [
              "<Figure size 1400x600 with 2 Axes>"
            ],
            "image/png": "[encoded data removed]"
          },
          "metadata": {}
        }
      ]
    },
    {
      "cell_type": "markdown",
      "source": [
        "9. As for the categorical features, apply encoding of categorical variables into dummy variables using pd.get_dummies approach. Show the first five (5) rows.\n",
        "\n"
      ],
      "metadata": {
        "id": "OfA0Etnf0fLv"
      }
    },
    {
      "cell_type": "code",
      "source": [
        "df_with_dummies = pd.get_dummies(df, drop_first=True)\n",
        "print(df_with_dummies.head())"
      ],
      "metadata": {
        "colab": {
          "base_uri": "https://localhost:8080/"
        },
        "id": "jywYH7J00i7c",
        "outputId": "2e76b697-e5e1-4667-c112-e632eab0a3a7"
      },
      "execution_count": 17,
      "outputs": [
        {
          "output_type": "stream",
          "name": "stdout",
          "text": [
            "           loan_amount  repaid  loan_id  rate  loan_type_credit  \\\n",
            "client_id                                                         \n",
            "46109            13672       0    10243  2.15                 0   \n",
            "46109             9794       0    10984  1.25                 1   \n",
            "46109            12734       1    10990  0.68                 0   \n",
            "46109            12518       1    10596  1.24                 0   \n",
            "46109            14049       1    11415  3.13                 1   \n",
            "\n",
            "           loan_type_home  loan_type_other  loan_start_2000-03-06  \\\n",
            "client_id                                                           \n",
            "46109                   1                0                      0   \n",
            "46109                   0                0                      0   \n",
            "46109                   1                0                      0   \n",
            "46109                   0                0                      0   \n",
            "46109                   0                0                      0   \n",
            "\n",
            "           loan_start_2000-03-08  loan_start_2000-03-25  ...  \\\n",
            "client_id                                                ...   \n",
            "46109                          0                      0  ...   \n",
            "46109                          0                      0  ...   \n",
            "46109                          0                      0  ...   \n",
            "46109                          0                      0  ...   \n",
            "46109                          0                      0  ...   \n",
            "\n",
            "           loan_end_2016-11-14  loan_end_2016-11-27  loan_end_2016-12-10  \\\n",
            "client_id                                                                  \n",
            "46109                        0                    0                    0   \n",
            "46109                        0                    0                    0   \n",
            "46109                        0                    0                    0   \n",
            "46109                        0                    0                    0   \n",
            "46109                        0                    0                    0   \n",
            "\n",
            "           loan_end_2016-12-29  loan_end_2017-01-16  loan_end_2017-01-19  \\\n",
            "client_id                                                                  \n",
            "46109                        0                    0                    0   \n",
            "46109                        0                    0                    0   \n",
            "46109                        0                    0                    0   \n",
            "46109                        0                    0                    0   \n",
            "46109                        0                    0                    0   \n",
            "\n",
            "           loan_end_2017-01-26  loan_end_2017-01-29  loan_end_2017-02-15  \\\n",
            "client_id                                                                  \n",
            "46109                        0                    0                    0   \n",
            "46109                        0                    0                    0   \n",
            "46109                        0                    0                    0   \n",
            "46109                        0                    0                    0   \n",
            "46109                        0                    0                    0   \n",
            "\n",
            "           loan_end_2017-05-07  \n",
            "client_id                       \n",
            "46109                        0  \n",
            "46109                        0  \n",
            "46109                        0  \n",
            "46109                        0  \n",
            "46109                        0  \n",
            "\n",
            "[5 rows x 863 columns]\n"
          ]
        }
      ]
    },
    {
      "cell_type": "markdown",
      "source": [
        "10. Create new derived features to calculate the tenure of the loan by using the loan_start and loan_end.\n",
        "\n"
      ],
      "metadata": {
        "id": "VQ08TKA703Ig"
      }
    },
    {
      "cell_type": "code",
      "source": [
        "df['loan_start'] = pd.to_datetime(df['loan_start'])\n",
        "df['loan_end'] = pd.to_datetime(df['loan_end'])\n",
        "df['loan_tenure'] = (df['loan_end'] - df['loan_start']).dt.days / 365\n",
        "\n",
        "print(df[['loan_start', 'loan_end', 'loan_tenure']].head())"
      ],
      "metadata": {
        "colab": {
          "base_uri": "https://localhost:8080/"
        },
        "id": "uCEnJ8680524",
        "outputId": "c44cb5ea-2381-4862-a33b-70f95b64d5e9"
      },
      "execution_count": 18,
      "outputs": [
        {
          "output_type": "stream",
          "name": "stdout",
          "text": [
            "          loan_start   loan_end  loan_tenure\n",
            "client_id                                   \n",
            "46109     2002-04-16 2003-12-20     1.679452\n",
            "46109     2003-10-21 2005-07-17     1.739726\n",
            "46109     2006-02-01 2007-07-05     1.421918\n",
            "46109     2010-12-08 2013-05-05     2.408219\n",
            "46109     2010-07-07 2012-05-21     1.873973\n"
          ]
        }
      ]
    },
    {
      "cell_type": "markdown",
      "source": [
        "11. Split the data into training and test sets with 80-20 division.\n",
        "\n"
      ],
      "metadata": {
        "id": "eTDjivev1Fg3"
      }
    },
    {
      "cell_type": "code",
      "source": [
        "from sklearn.model_selection import train_test_split\n",
        "X = df.drop('loan_amount', axis=1)\n",
        "y = df['loan_amount']\n",
        "X_train, X_test, y_train, y_test = train_test_split(X, y, test_size=0.2, random_state=42)\n",
        "print(\"Training set shape:\", X_train.shape, y_train.shape)\n",
        "print(\"Test set shape:\", X_test.shape, y_test.shape)"
      ],
      "metadata": {
        "colab": {
          "base_uri": "https://localhost:8080/"
        },
        "id": "PBmdRiL21If2",
        "outputId": "2c08f9a1-5786-4193-c303-d193bf578efa"
      },
      "execution_count": 19,
      "outputs": [
        {
          "output_type": "stream",
          "name": "stdout",
          "text": [
            "Training set shape: (354, 7) (354,)\n",
            "Test set shape: (89, 7) (89,)\n"
          ]
        }
      ]
    }
  ]
}